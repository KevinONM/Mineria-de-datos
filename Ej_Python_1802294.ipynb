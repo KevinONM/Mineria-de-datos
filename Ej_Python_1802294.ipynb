{
 "cells": [
  {
   "cell_type": "markdown",
   "metadata": {},
   "source": [
    "# Ejercicios básicos Python"
   ]
  },
  {
   "cell_type": "markdown",
   "metadata": {},
   "source": [
    "## Ejercicio 1\n",
    "\n",
    "- Realiza una variable con tu matricula y realiza una secuencia de imprimir con tu nombre y tu matricula concatenados."
   ]
  },
  {
   "cell_type": "code",
   "execution_count": 3,
   "metadata": {},
   "outputs": [
    {
     "name": "stdout",
     "output_type": "stream",
     "text": [
      "Alumno: Kevin Orlando Núñez Márquez. Matrícula:  1802294\n"
     ]
    }
   ],
   "source": [
    "mat = 1802294\n",
    "print (\"Alumno: Kevin Orlando Núñez Márquez. Matrícula: \", mat)"
   ]
  },
  {
   "cell_type": "markdown",
   "metadata": {},
   "source": [
    "## Ejercicio 2\n",
    "- Pidiendo el input del usuario pide dos números y crea una pequeña calculadora con los operadores básicos de suma, resta, multiplicación, división, y exponente."
   ]
  },
  {
   "cell_type": "code",
   "execution_count": 4,
   "metadata": {},
   "outputs": [
    {
     "name": "stdout",
     "output_type": "stream",
     "text": [
      "Calculadora básica\n",
      "Introduce un número:3\n",
      "Introduce otro número: 2\n",
      "Resultados para: \n",
      "Suma:  5\n",
      "Resta:  1\n",
      "Multiplicación:  6\n",
      "División:  1.5\n",
      "Exponente:  9\n"
     ]
    }
   ],
   "source": [
    "print(\"Calculadora básica\")\n",
    "\n",
    "n1 = int(input(\"Introduce un número:\" ))\n",
    "n2 = int(input(\"Introduce otro número: \"))\n",
    "\n",
    "v = n1+n2\n",
    "w = n1-n2\n",
    "x = n1*n2\n",
    "y = n1/n2\n",
    "z = n1**n2\n",
    "\n",
    "print(\"Resultados para: \")\n",
    "print(\"Suma: \", v)\n",
    "print(\"Resta: \", w)\n",
    "print(\"Multiplicación: \", x)\n",
    "print(\"División: \", y)\n",
    "print(\"Exponente: \", z)"
   ]
  },
  {
   "cell_type": "markdown",
   "metadata": {},
   "source": [
    "## Ejercicio 3\n",
    "- Con loop while o for, realiza una lista de 10 numeros multiplos de 3, y después realiza una función de loop que sume todos los números dentro del arreglo."
   ]
  },
  {
   "cell_type": "code",
   "execution_count": 15,
   "metadata": {},
   "outputs": [
    {
     "name": "stdout",
     "output_type": "stream",
     "text": [
      "Lista de números: \n",
      "3\n",
      "6\n",
      "9\n",
      "12\n",
      "15\n",
      "18\n",
      "21\n",
      "24\n",
      "27\n",
      "30\n",
      "////////////////////\n",
      "La suma de todos los números es:  175\n"
     ]
    }
   ],
   "source": [
    "sum=0\n",
    "print(\"Lista de números: \")\n",
    "for i in range(1,31):\n",
    "    if i%3==0:\n",
    "        print (i)\n",
    "        i+=1\n",
    "        sum = sum + i\n",
    "print(\"////////////////////\")\n",
    "print (\"La suma de todos los números es: \", sum)"
   ]
  },
  {
   "cell_type": "markdown",
   "metadata": {},
   "source": [
    "# Ejercicio 4\n",
    "\n",
    "* Con una función de if else, revisar si un número es par o es impar.\n",
    "* Con una función de if else, revisar si un número es primo o no."
   ]
  },
  {
   "cell_type": "code",
   "execution_count": 27,
   "metadata": {},
   "outputs": [
    {
     "name": "stdout",
     "output_type": "stream",
     "text": [
      "Introduce un número: 9\n",
      "El número ingresado es impar\n",
      "El número no es primo\n"
     ]
    }
   ],
   "source": [
    "num = int(input(\"Introduce un número: \"))\n",
    "valor= range(2,num)\n",
    "contador = 0\n",
    "if i%3==0:\n",
    "    print(\"El número ingresado es par\")\n",
    "else:\n",
    "     print(\"El número ingresado es impar\")\n",
    "for n in valor:\n",
    "  if num % n == 0:\n",
    "    contador +=1\n",
    " \n",
    "if contador > 0 :\n",
    "  print(\"El número no es primo\" )\n",
    "else:\n",
    "  print(\"El nÚmero es primo\")"
   ]
  },
  {
   "cell_type": "markdown",
   "metadata": {},
   "source": [
    "# Ejercicio 5\n",
    "- Utilizando diferentes clases en python, crea una calculadora con los operadores básicos de suma, resta, multiplicación, división, y exponente."
   ]
  },
  {
   "cell_type": "code",
   "execution_count": 32,
   "metadata": {},
   "outputs": [
    {
     "name": "stdout",
     "output_type": "stream",
     "text": [
      "Introduce un número:3\n",
      "Introduce otro número: 4\n",
      "\n",
      "    ¿Qué quieres hacer?\n",
      "    1) Sumar los dos números\n",
      "    2) Restar los dos números\n",
      "    3) Multiplicar los dos números\n",
      "    4) Dividir los 2 números\n",
      "    5) Elevar el primer número al segundo\n",
      "    6) Salir\n",
      "    \n",
      "Introduce el número de la opción que quieres escoger: 1\n",
      "7\n",
      "\n",
      "    ¿Qué quieres hacer?\n",
      "    1) Sumar los dos números\n",
      "    2) Restar los dos números\n",
      "    3) Multiplicar los dos números\n",
      "    4) Dividir los 2 números\n",
      "    5) Elevar el primer número al segundo\n",
      "    6) Salir\n",
      "    \n",
      "Introduce el número de la opción que quieres escoger: 2\n",
      "-1\n",
      "\n",
      "    ¿Qué quieres hacer?\n",
      "    1) Sumar los dos números\n",
      "    2) Restar los dos números\n",
      "    3) Multiplicar los dos números\n",
      "    4) Dividir los 2 números\n",
      "    5) Elevar el primer número al segundo\n",
      "    6) Salir\n",
      "    \n",
      "Introduce el número de la opción que quieres escoger: 3\n",
      "12\n",
      "\n",
      "    ¿Qué quieres hacer?\n",
      "    1) Sumar los dos números\n",
      "    2) Restar los dos números\n",
      "    3) Multiplicar los dos números\n",
      "    4) Dividir los 2 números\n",
      "    5) Elevar el primer número al segundo\n",
      "    6) Salir\n",
      "    \n",
      "Introduce el número de la opción que quieres escoger: 4\n",
      "0.75\n",
      "\n",
      "    ¿Qué quieres hacer?\n",
      "    1) Sumar los dos números\n",
      "    2) Restar los dos números\n",
      "    3) Multiplicar los dos números\n",
      "    4) Dividir los 2 números\n",
      "    5) Elevar el primer número al segundo\n",
      "    6) Salir\n",
      "    \n",
      "Introduce el número de la opción que quieres escoger: 5\n",
      "81\n",
      "\n",
      "    ¿Qué quieres hacer?\n",
      "    1) Sumar los dos números\n",
      "    2) Restar los dos números\n",
      "    3) Multiplicar los dos números\n",
      "    4) Dividir los 2 números\n",
      "    5) Elevar el primer número al segundo\n",
      "    6) Salir\n",
      "    \n",
      "Introduce el número de la opción que quieres escoger: 6\n",
      "Gracias por usar la calculadora\n"
     ]
    }
   ],
   "source": [
    "n1 = int(input(\"Introduce un número:\" ))\n",
    "n2 = int(input(\"Introduce otro número: \"))\n",
    "\n",
    "def sumar(n1,n2):\n",
    "    print (n1+n2)\n",
    "    \n",
    "def restar(n1,n2):\n",
    "    print (n1-n2)\n",
    "    \n",
    "def multiplicar(n1,n2):\n",
    "    print (n1*n2)\n",
    "    \n",
    "def dividir(n1,n2):\n",
    "    print (n1/n2)\n",
    "    \n",
    "def exponenciar(n1,n2):\n",
    "    print (n1**n2)\n",
    "\n",
    "opcion = 0\n",
    "while True:\n",
    "    print(\"\"\"\n",
    "    ¿Qué quieres hacer?\n",
    "    1) Sumar los dos números\n",
    "    2) Restar los dos números\n",
    "    3) Multiplicar los dos números\n",
    "    4) Dividir los 2 números\n",
    "    5) Elevar el primer número al segundo\n",
    "    6) Salir\n",
    "    \"\"\")\n",
    "    opcion = int(input(\"Introduce el número de la opción que quieres escoger: \") )     \n",
    "\n",
    "    if opcion == 1:\n",
    "        sumar (n1,n2)\n",
    "    elif opcion == 2:\n",
    "        restar(n1,n2)\n",
    "    elif opcion == 3:\n",
    "        multiplicar(n1,n2)\n",
    "    elif opcion == 4:\n",
    "        dividir(n1,n2)\n",
    "    elif opcion == 5:\n",
    "        exponenciar(n1,n2)\n",
    "    elif opcion == 6:\n",
    "        print(\"Gracias por usar la calculadora\")\n",
    "        break\n",
    "    else:\n",
    "        print(\"Opción incorrecta\")"
   ]
  },
  {
   "cell_type": "markdown",
   "metadata": {},
   "source": [
    "## Ejercicios con estructuras básicas de python"
   ]
  },
  {
   "cell_type": "markdown",
   "metadata": {},
   "source": [
    "### Tuplas\n",
    "\n",
    "* Crear una variable flotante, integer, boleana y compleja e imprimir el tipo de variable que es."
   ]
  },
  {
   "cell_type": "code",
   "execution_count": 49,
   "metadata": {},
   "outputs": [
    {
     "name": "stdout",
     "output_type": "stream",
     "text": [
      "1.5\n",
      "<class 'float'>\n",
      "20\n",
      "<class 'int'>\n",
      "True\n",
      "<class 'bool'>\n",
      "(4+3j)\n",
      "<class 'complex'>\n"
     ]
    }
   ],
   "source": [
    "t1=1.5\n",
    "t2=20\n",
    "t3= 3<4\n",
    "t4= 4 + 3j\n",
    "print(t1)\n",
    "print(type(t1))\n",
    "print(t2)\n",
    "print(type(t2))\n",
    "print(t3)\n",
    "print(type(t3))\n",
    "print(t4)\n",
    "print(type(t4))\n"
   ]
  },
  {
   "cell_type": "markdown",
   "metadata": {},
   "source": [
    "* Crear una tupla con valores enteros imprimir el primer y ultimo valor."
   ]
  },
  {
   "cell_type": "code",
   "execution_count": 66,
   "metadata": {},
   "outputs": [
    {
     "name": "stdout",
     "output_type": "stream",
     "text": [
      "1\n",
      "5\n"
     ]
    }
   ],
   "source": [
    "t1=(1,2,3,4,5)\n",
    "print(t1[0])\n",
    "print(t1[-1])"
   ]
  },
  {
   "cell_type": "markdown",
   "metadata": {},
   "source": [
    "* Añadir 3 valores de string a la tupla."
   ]
  },
  {
   "cell_type": "code",
   "execution_count": 85,
   "metadata": {},
   "outputs": [
    {
     "name": "stdout",
     "output_type": "stream",
     "text": [
      "Introduce un valor string: a\n",
      "Introduce otro valor string: b\n",
      "Introduce otro valor string:c\n",
      "tupla original: (1, 2, 3, 4, 5)\n",
      "(1, 2, 3, 4, 5, 'a', 'b', 'c')\n"
     ]
    }
   ],
   "source": [
    "def anadir_elemento(t,si, s2,s3):\n",
    "    lista=list(t)\n",
    "    lista.append(s1)\n",
    "    lista.append(s2)\n",
    "    lista.append(s3)\n",
    "    t=tuple(lista)\n",
    "    return t\n",
    "\n",
    "s1 = str(input(\"Introduce un valor string: \"))\n",
    "\n",
    "s2 = str(input(\"Introduce otro valor string: \"))\n",
    "\n",
    "s3 = str(input(\"Introduce otro valor string:\" ))\n",
    "\n",
    "t=tuple()\n",
    "t=(1,2,3,4,5)\n",
    "\n",
    "print (\"tupla original:\",t) \n",
    "\n",
    "print (anadir_elemento(t,s1,s2,s3))"
   ]
  },
  {
   "cell_type": "markdown",
   "metadata": {},
   "source": [
    "* Verificar si una variable existe dentro de la tupla."
   ]
  },
  {
   "cell_type": "code",
   "execution_count": 109,
   "metadata": {},
   "outputs": [
    {
     "name": "stdout",
     "output_type": "stream",
     "text": [
      "La tupla es:  (1, 2, 3, 4, 5)\n",
      "\n",
      "    ¿Qué tipo de valor quieres saber si está en la tupla?\n",
      "    1) int\n",
      "    2) float\n",
      "    3) complex\n",
      "    4) string\n",
      "    5) No quiero verificar ningún valor\n",
      "\n",
      "Introduce el número de la opción que quieres escoger: 5\n"
     ]
    }
   ],
   "source": [
    "t = (1,2,3,4,5)\n",
    "\n",
    "opcion = 0\n",
    "print (\"La tupla es: \", t)\n",
    "while True:\n",
    "    print(\"\"\"\n",
    "    ¿Qué tipo de valor quieres saber si está en la tupla?\n",
    "    1) int\n",
    "    2) float\n",
    "    3) complex\n",
    "    4) string\n",
    "    5) No quiero verificar ningún valor\n",
    "\"\"\")\n",
    "    opcion = int(input(\"Introduce el número de la opción que quieres escoger: \") )       \n",
    "    if opcion == 1:\n",
    "        v = int(input(\"Introduce el valor que quieres saber si está en la tupla: \") ) \n",
    "        print(\"Está el valor en la tupla?\")\n",
    "        if v in t:\n",
    "            print(\"Si\")\n",
    "        else:\n",
    "            print(\"No\")\n",
    "    elif opcion == 2:\n",
    "        v = float(input(\"Introduce el valor que quieres saber si está en la tupla: \") )\n",
    "        print(\"Está el valor en la tupla?\")\n",
    "        if v in t:\n",
    "            print(\"Si\")\n",
    "        else:\n",
    "            print(\"No\")\n",
    "    elif opcion == 3:\n",
    "        v = complex(input(\"Introduce el valor que quieres saber si está en la tupla: \") )\n",
    "        print(\"Está el valor en la tupla?\")\n",
    "        if v in t:\n",
    "            print(\"Si\")\n",
    "        else:\n",
    "            print(\"No\")\n",
    "    elif opcion == 4:\n",
    "        v = str(input(\"Introduce el valor que quieres saber si está en la tupla: \") )\n",
    "        print(\"Está el valor en la tupla?\")\n",
    "        if v in t:\n",
    "            print(\"Si\")\n",
    "        else:\n",
    "            print(\"No\")\n",
    "    elif opcion == 5:\n",
    "        break\n",
    "    else:\n",
    "        print(\"Opción incorrecta\")"
   ]
  },
  {
   "cell_type": "markdown",
   "metadata": {},
   "source": [
    "## Listas\n",
    "* Crear una lista con 40 elementos aleatorios enteros."
   ]
  },
  {
   "cell_type": "code",
   "execution_count": 128,
   "metadata": {},
   "outputs": [
    {
     "name": "stdout",
     "output_type": "stream",
     "text": [
      "Enteros:  [115, 992, 109, 739, 362, 708, 758, 761, 939, 471, 213, 806, 491, 312, 268, 404, 386, 734, 392, 389, 81, 67, 886, 515, 334, 789, 188, 70, 289, 891, 936, 898, 17, 823, 356, 463, 782, 904, 931, 931]\n"
     ]
    }
   ],
   "source": [
    "\"\"\"\n",
    "https://parzibyte.me/blog\n",
    "\"\"\"\n",
    "import random\n",
    "\n",
    "def generar_lista_enteros(minimo, maximo, longitud):\n",
    "\treturn [random.randint(minimo, maximo) for _ in range(longitud)]\n",
    "\n",
    "\n",
    "\n",
    "enteros_aleatorios = generar_lista_enteros(1, 1000, 40)\n",
    "print(\"Enteros: \", (enteros_aleatorios))\n"
   ]
  },
  {
   "cell_type": "markdown",
   "metadata": {},
   "source": [
    "* Con una funcion (def) crear dos listas nuevas a partir de la lista creada por numeros aleatorios, en la cual en una esten los elementos pares, y en la otra los elementos impares."
   ]
  },
  {
   "cell_type": "code",
   "execution_count": 132,
   "metadata": {},
   "outputs": [
    {
     "name": "stdout",
     "output_type": "stream",
     "text": [
      "Enteros:  [436]\n"
     ]
    }
   ],
   "source": [
    "import random \n",
    "print (random.randrange(0,100,2))\n",
    "for x in range(0,40):\n",
    "    print (random.randrange(0,100,2))\n",
    "    \n",
    "def generar_lista_enteros(minimo, maximo, longitud):\n",
    "\treturn [random.randrange(0, 1000,2)]\n",
    "\n",
    "\n",
    "\n",
    "enteros_aleatorios = generar_lista_enteros(1, 1000, 40)\n",
    "print(\"Enteros: \", str(enteros_aleatorios))\n"
   ]
  },
  {
   "cell_type": "code",
   "execution_count": 265,
   "metadata": {},
   "outputs": [
    {
     "name": "stdout",
     "output_type": "stream",
     "text": [
      "[828, 272, 154, 474, 308, 388, 442, 376, 738, 732]\n",
      "[231, 369, 481, 723, 711, 419, 13, 107, 747, 851]\n"
     ]
    }
   ],
   "source": [
    "import random\n",
    "lp=[]\n",
    "li=[]\n",
    "k=55\n",
    "\n",
    "for i in range (k):\n",
    "    v = (random.randint(0,1000))\n",
    "    if v%2==0:\n",
    "        lp.append(v)\n",
    "        llp=(len(lp))\n",
    "        if llp > 9:\n",
    "            break\n",
    "\n",
    "\n",
    "for i in range (k):\n",
    "    v = (random.randint(0,1000))\n",
    "    if v%2!=0:\n",
    "        li.append(v)\n",
    "        lli=(len(li))\n",
    "        if lli > 9:\n",
    "            break\n",
    "              \n",
    "print(lp)\n",
    "print(li)"
   ]
  },
  {
   "cell_type": "code",
   "execution_count": null,
   "metadata": {},
   "outputs": [],
   "source": []
  }
 ],
 "metadata": {
  "kernelspec": {
   "display_name": "Python 3",
   "language": "python",
   "name": "python3"
  },
  "language_info": {
   "codemirror_mode": {
    "name": "ipython",
    "version": 3
   },
   "file_extension": ".py",
   "mimetype": "text/x-python",
   "name": "python",
   "nbconvert_exporter": "python",
   "pygments_lexer": "ipython3",
   "version": "3.8.5"
  }
 },
 "nbformat": 4,
 "nbformat_minor": 4
}
